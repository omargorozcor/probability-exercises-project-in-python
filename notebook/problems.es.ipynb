{
 "cells": [
  {
   "cell_type": "markdown",
   "id": "a41f3622",
   "metadata": {},
   "source": [
    "# Ejercicios de probabilidad"
   ]
  },
  {
   "cell_type": "markdown",
   "id": "a6bdbd89",
   "metadata": {},
   "source": [
    "## Ejercicio 1 \n",
    "\n",
    "Dos dados se lanzan una vez y se observa el total obtenido. Usa una simulación para encontrar la probabilidad estimada de que la puntuación sea mayor a 7 o un número par. Una simulación es una repetición del mismo experimento multiples veces para observar su comportamiento:\n",
    "\n",
    "- Ejecuta el experimento 1000 veces (lanza 2 dados 1000 veces, y suma el número de ambos dados).\n",
    "- Lleva ua cuenta de los números y las veces que la suma fue mayor a 7 o un número par.\n",
    "- Divide el número del paso 2 entre el número de iteraciones(1000)."
   ]
  },
  {
   "cell_type": "code",
   "execution_count": 127,
   "id": "8939d892",
   "metadata": {},
   "outputs": [
    {
     "name": "stdout",
     "output_type": "stream",
     "text": [
      "El resultado es: 0.844\n"
     ]
    }
   ],
   "source": [
    "# TODO\n",
    "\n",
    "import random\n",
    "import numpy as np\n",
    "\n",
    "trials = 1000\n",
    "contador = 0\n",
    "\n",
    "for _ in range(trials):\n",
    "    dado1 = random.randint(1,6)\n",
    "    dado2 = random.randint(1,6)\n",
    "    suma = dado1 + dado2\n",
    "    if suma >= 7 or suma%2== 0:\n",
    "        #print(dado1, dado2, suma)\n",
    "        contador += 1\n",
    "print(f\"El resultado es: {contador/trials}\")\n"
   ]
  },
  {
   "cell_type": "markdown",
   "id": "55732bca",
   "metadata": {},
   "source": [
    "## Ejercicio 2\n",
    "\n",
    "Una caja contiene 10 bolas blancas, 20 bolas rojas y 30 bolas verdes. Si tomamos 5 bolas de la caja reemplazándolas (tomando una bola, anotando el color y luego regresandola a la caja). Queremos saber la probabilidad de:\n",
    "\n",
    "1. Tomar 3 blancas y 2 rojas.\n",
    "2. Toas todas del mismo color.\n",
    "\n",
    "Ejecuta el experimento 1000 veces y calcula las probabilidades que mencionadas."
   ]
  },
  {
   "cell_type": "code",
   "execution_count": 145,
   "id": "f1c3baa3",
   "metadata": {},
   "outputs": [
    {
     "name": "stdout",
     "output_type": "stream",
     "text": [
      "0.007\n",
      "0.041\n"
     ]
    }
   ],
   "source": [
    "caja = [\"B\"]*10 + [\"R\"]*20 + [\"V\"]*30\n",
    "\n",
    "trials = 1000\n",
    "contador1 = 0\n",
    "contador2 = 0\n",
    "\n",
    "for _ in range(trials):\n",
    "    muestra = random.choices(caja,k= 5)\n",
    "    if muestra.count(\"B\") == 3 and muestra.count(\"R\") == 2:\n",
    "        #print(muestra)\n",
    "        contador1 += 1\n",
    "    elif muestra.count(\"B\") == 5 or muestra.count(\"R\") == 5 or muestra.count(\"V\") == 5:\n",
    "        #print(muestra)\n",
    "        contador2 += 1\n",
    "    \n",
    "    \n",
    "print((contador1/trials))\n",
    "print((contador2/trials))\n",
    "\n"
   ]
  }
 ],
 "metadata": {
  "kernelspec": {
   "display_name": "Python 3",
   "language": "python",
   "name": "python3"
  },
  "language_info": {
   "codemirror_mode": {
    "name": "ipython",
    "version": 3
   },
   "file_extension": ".py",
   "mimetype": "text/x-python",
   "name": "python",
   "nbconvert_exporter": "python",
   "pygments_lexer": "ipython3",
   "version": "3.11.4"
  }
 },
 "nbformat": 4,
 "nbformat_minor": 5
}
